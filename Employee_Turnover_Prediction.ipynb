{
  "nbformat": 4,
  "nbformat_minor": 0,
  "metadata": {
    "colab": {
      "provenance": [],
      "mount_file_id": "1EcAtCd4XXuQg1f4NBjOquhJkZwBUGRZR",
      "authorship_tag": "ABX9TyNFp2+EL+DZvDFBTsNGJJ8A",
      "include_colab_link": true
    },
    "kernelspec": {
      "name": "python3",
      "display_name": "Python 3"
    },
    "language_info": {
      "name": "python"
    }
  },
  "cells": [
    {
      "cell_type": "markdown",
      "metadata": {
        "id": "view-in-github",
        "colab_type": "text"
      },
      "source": [
        "<a href=\"https://colab.research.google.com/github/Linkonb/Employee_Turnover_Prediction/blob/main/Employee_Turnover_Prediction.ipynb\" target=\"_parent\"><img src=\"https://colab.research.google.com/assets/colab-badge.svg\" alt=\"Open In Colab\"/></a>"
      ]
    },
    {
      "cell_type": "code",
      "execution_count": null,
      "metadata": {
        "colab": {
          "base_uri": "https://localhost:8080/"
        },
        "id": "Lt0mQNsSSgCx",
        "outputId": "d69a253c-7ef5-4693-fd16-60d771e3777e"
      },
      "outputs": [
        {
          "output_type": "stream",
          "name": "stdout",
          "text": [
            "BDS\n"
          ]
        }
      ],
      "source": [
        "print('BDS')\n",
        "import numpy as np\n",
        "import pandas as pd\n",
        "from sklearn.model_selection import train_test_split\n",
        "from sklearn.tree import DecisionTreeRegressor\n",
        "from sklearn.tree import DecisionTreeClassifier\n",
        "from sklearn.metrics import mean_squared_error, r2_score\n",
        "from sklearn.decomposition import FastICA\n",
        "from sklearn.preprocessing import StandardScaler\n",
        "import seaborn as sns\n",
        "import matplotlib.pyplot as plt\n",
        "from sklearn.metrics import confusion_matrix\n",
        "import pickle"
      ]
    },
    {
      "cell_type": "code",
      "source": [
        "age_ranges = [(18, 24), (25, 29),(30, 34), (35, 40), (43, 55), (56, 64), (65, 80)]\n",
        "# Create a function to categorize ages into the specified age ranges\n",
        "def categorize_age(age):\n",
        "    for min_age, max_age in age_ranges:\n",
        "        if min_age <= age <= max_age:\n",
        "            return f\"{max_age}-{min_age}\"\n",
        "    return \"80+\"\n",
        "\n",
        "\n",
        "\n",
        "Current_Gross_ranges = [(0, 10000), (10001, 12000),(12001, 15000), (15001, 18000), (18001, 21000), (21001, 24000), (24001, 27000)]\n",
        "# Create a function to categorize ages into the specified age ranges\n",
        "def categorize_Gross_ranges(Current_Gross):\n",
        "    for min_ranges, max_ranges in Current_Gross_ranges:\n",
        "        if min_ranges <= Current_Gross <= max_ranges:\n",
        "            return f\"{max_ranges}-{min_ranges}\"\n",
        "    return \"27001\"\n",
        "\n",
        "\n",
        "# Use a conditional check to handle invalid date values\n",
        "def safe_date_conversion(date_str):\n",
        "    try:\n",
        "        return pd.to_datetime(date_str, format=left_date_format)\n",
        "    except ValueError:\n",
        "        return np.nan\n"
      ],
      "metadata": {
        "id": "TRAEeVs7-SoN"
      },
      "execution_count": null,
      "outputs": []
    },
    {
      "cell_type": "code",
      "source": [
        "data=pd.read_csv('/content/drive/MyDrive/Colab Notebooks/emp_model_data.csv', low_memory=False, encoding='cp1252')\n",
        " #emp_model_data_Year1"
      ],
      "metadata": {
        "id": "1XGXDR118dUP"
      },
      "execution_count": null,
      "outputs": []
    },
    {
      "cell_type": "code",
      "source": [
        "print(data.head())\n",
        "print('Total data:',data['Department'].count())"
      ],
      "metadata": {
        "colab": {
          "base_uri": "https://localhost:8080/"
        },
        "id": "DKApMGFP8dmD",
        "outputId": "0fc8529e-aec7-4f62-df66-15f54bff0c34"
      },
      "execution_count": null,
      "outputs": [
        {
          "output_type": "stream",
          "name": "stdout",
          "text": [
            "   RegId  ComID EmployeeCode                 Name       BirthDate  \\\n",
            "0   1821      1        10795  PARVIN AKTER FATEMA   2/3/1989 0:00   \n",
            "1   1822      1        10796         LABONI BEGUM  6/13/1992 0:00   \n",
            "2   1836      1        10809           MALA AKTER  8/18/1992 0:00   \n",
            "3   1841      1        10813         NASIMA AKTER   3/1/1992 0:00   \n",
            "4   1858      1        10829               RAHIMA   3/1/1991 0:00   \n",
            "\n",
            "       JoiningDate Department    Section  Designation Bus_Availer  ...  \\\n",
            "0   6/14/2011 0:00     SEWING  SEWING 01     OPERATOR          No  ...   \n",
            "1   6/16/2011 0:00     SEWING  SEWING 01       HELPER          No  ...   \n",
            "2   9/25/2011 0:00     SEWING  SEWING 01       HELPER          No  ...   \n",
            "3   10/3/2011 0:00     SEWING  SEWING 01  JR.OPERATOR          No  ...   \n",
            "4  11/15/2011 0:00     SEWING  SEWING 01       HELPER          No  ...   \n",
            "\n",
            "  Current_Gross   District     Sex MLeft        Left_Date WStatus JoinYear  \\\n",
            "0          5300  PIROJPUR   Female     1  10/11/2011 0:00       W       22   \n",
            "1          3350   BAGERHAT  Female     1  12/28/2011 0:00       W       19   \n",
            "2          3350  PIROJPUR   Female     1   1/21/2012 0:00       W       19   \n",
            "3          4900   CHANDPUR  Female     1   3/20/2012 0:00       W       19   \n",
            "4          4223     BHOLA   Female     1  11/25/2013 0:00       W       20   \n",
            "\n",
            "   AgeWhenLeft WorkingDuration WorkingDurationYear  \n",
            "0         22.0               4                   0  \n",
            "1         19.0               6                   0  \n",
            "2         20.0               4                   1  \n",
            "3         20.0               5                   1  \n",
            "4         22.0              24                   2  \n",
            "\n",
            "[5 rows x 24 columns]\n",
            "Total data: 282949\n"
          ]
        }
      ]
    },
    {
      "cell_type": "code",
      "source": [
        "# Define a custom date parsing format for the 'LeftDate' column\n",
        "left_date_format = '%m/%d/%Y'  # Replace with your actual date format\n",
        "\n",
        "data['JoiningDate'] = data['JoiningDate'].apply(safe_date_conversion)"
      ],
      "metadata": {
        "id": "HQfZtKKjAarj"
      },
      "execution_count": null,
      "outputs": []
    },
    {
      "cell_type": "code",
      "source": [
        "#filtered_df = df.query('age > 25 and gender == 'Male'')\n",
        "#data= data.query('ComID == 7 and WStatus == \"F\" and WorkingDuration >0 and Corporate_Emp==\"Yes\" and WStatus  in (\"W\",\"F\")')\n",
        "\n",
        "#data= data.query('ComID == 7 and WStatus == \"J\"  ')\n",
        "#data= data.query('Department == \"SEWING\" and WStatus == \"W\" ')\n",
        "#data= data.query('ComID == 7 and JoiningDate. >= '01-01-2015'' )\n",
        "# df.country.isin(countries_to_keep)  and Department == \"SEWING\"\n",
        "\n",
        "data= data.query('MLeft == 1')\n",
        "\n",
        "#data= data.query(' ComID  in (1,5,7)   and Department == \"SEWING2\" and  WorkingDuration > 1 ')\n",
        "#data= data.query(' ComID  in (1,5,7)   and  WorkingDuration > 1 ')\n",
        "\n",
        "data = data[['RegId','ComID','Department','Section','Designation','Designation_Category','Current_Gross','District','Sex','Marital_Status','Last_Education','Bus_Availer','MLeft','Left_Date','WStatus','JoinYear','AgeWhenLeft','WorkingDuration','WorkingDurationYear']]\n",
        "\n",
        "\n",
        "\n",
        "print('Filter data:',data['Department'].count())\n",
        "#print(data.head())\n",
        "\n",
        "\n",
        "#if data['Department'].count() == 0 :\n",
        "    ##sys.exit(0)\n",
        "# Apply the categorize_age function to create an 'AgeRange' column\n",
        "#data['JoinYear'] = data['JoinYear'].apply(categorize_age)\n",
        "#data['Current_Gross'] = data['Current_Gross'].apply(categorize_Gross_ranges)\n",
        "\n"
      ],
      "metadata": {
        "colab": {
          "base_uri": "https://localhost:8080/"
        },
        "id": "nZoB6enbNOlC",
        "outputId": "efcf5014-c4b9-4a1a-ffb2-910962ee67f8"
      },
      "execution_count": null,
      "outputs": [
        {
          "output_type": "stream",
          "name": "stdout",
          "text": [
            "Filter data: 246959\n"
          ]
        }
      ]
    },
    {
      "cell_type": "code",
      "source": [
        "# Preform label encoding for gender variable\n",
        "from sklearn.preprocessing import LabelEncoder, OneHotEncoder\n",
        "lableencoder_X_2 = LabelEncoder()\n",
        "\n",
        "\n",
        "\n",
        "data['Department'] = lableencoder_X_2.fit_transform(data['Department'])\n",
        "data['Section'] = lableencoder_X_2.fit_transform(data['Section'])\n",
        "data['Designation'] = lableencoder_X_2.fit_transform(data['Designation'])\n",
        "data['Designation_Category'] = lableencoder_X_2.fit_transform(data['Designation_Category'])\n",
        "data['Current_Gross'] = lableencoder_X_2.fit_transform(data['Current_Gross'])\n",
        "\n",
        "\n",
        "\n",
        "data['District'] = lableencoder_X_2.fit_transform(data['District'])\n",
        "data['Sex'] = lableencoder_X_2.fit_transform(data['Sex'])\n",
        "data['Marital_Status'] = lableencoder_X_2.fit_transform(data['Marital_Status'])\n",
        "data['Last_Education'] = lableencoder_X_2.fit_transform(data['Last_Education'])\n",
        "data['MLeft'] = lableencoder_X_2.fit_transform(data['MLeft'])\n",
        "data['Left_Date'] = lableencoder_X_2.fit_transform(data['Left_Date'])\n",
        "\n",
        "\n",
        "data['WStatus'] = lableencoder_X_2.fit_transform(data['WStatus'])\n",
        "data['JoinYear'] = lableencoder_X_2.fit_transform(data['JoinYear'])\n",
        "data['AgeWhenLeft'] = lableencoder_X_2.fit_transform(data['AgeWhenLeft'])\n",
        "data['WorkingDuration'] = lableencoder_X_2.fit_transform(data['WorkingDuration'])\n",
        "data['WorkingDurationYear'] = lableencoder_X_2.fit_transform(data['WorkingDurationYear'])\n",
        "\n",
        "\n",
        "data.fillna(data.mean(), inplace=True)\n",
        "\n",
        "\n",
        "#Correlation Matrix\n",
        "corr = data.corr()\n",
        "corr = (corr)\n",
        "sns.heatmap(corr, xticklabels=corr.columns.values, yticklabels=corr.columns.values, cmap=\"PiYG\")\n",
        "#print(corr)\n",
        "plt.show()\n",
        "\n",
        "\n",
        "\n",
        "#print(data[['MLeft', 'AgeWhenLeft']].groupby(['MLeft'], as_index=False).mean().sort_values(by='AgeWhenLeft', ascending=False))\n",
        "##print(data[['MLeft', 'Department']].groupby(['MLeft'], as_index=False).mean().sort_values(by='Department', ascending=False))\n",
        "\n",
        "#print(data[['MLeft', 'Department']].groupby(['Department'], as_index=False).mean().sort_values(by='MLeft', ascending=False))\n",
        "\n",
        "\n",
        "\n",
        "\n",
        "\n",
        "#print(data.count())\n",
        "\n",
        "# Select independent variables (features) and target attribute\n",
        "#x = data[['Department', 'Section', 'Sex', 'AgeWhenLeft', 'WStatus']]  WorkingDuration Designation District\tBloodGroup JoinYear\n",
        "\n",
        "\n",
        "#x = data[['Department', 'Section']]  #Mean Squared Error: 4.271169441649926 R-squared (R2) Score: 0.044655098848032204\n",
        "#x = data[['Sex']]  # R-squared (R2) Score: 3.967209345245859e-05\n",
        "\n",
        "#x = data[['ComID','Department','Section','Designation','Designation_Category','Last_Education','WStatus','Sex','Marital_Status','Bus_Availer','JoinYear' ,'AgeWhenLeft','WorkingDuration','Current_Gross'] ]  #33\n",
        "\n",
        "#x = data[['ComID','Department','Section','Designation_Category','WStatus','Sex','Marital_Status','JoinYear' ,'AgeWhenLeft','Current_Gross'] ]  #33\n",
        "#y = data['WorkingDuration']  #86.50%\n",
        "\n",
        "\n",
        "x = data[['RegId','ComID','Department','Section','Designation_Category','WStatus','Sex','Marital_Status','AgeWhenLeft' ,'Current_Gross'] ]  #33\n",
        "y = data['WorkingDuration']\n",
        "# WorkingDuration WorkingDurationYear\n",
        "\n",
        "\n",
        "\n",
        "#ica = FastICA(n_components=4)\n",
        "#x  = ica.fit_transform(x)\n",
        "\n",
        "#sc = StandardScaler()\n",
        "#x  =sc.fit(x)\n",
        "\n",
        "\n",
        "\n",
        "\n",
        "# Split the data into training and testing sets\n",
        "X_train, X_test, y_train, y_test = train_test_split(x, y, test_size=0.25, random_state=10)\n",
        "\n",
        "\n",
        "\n",
        "## load the model from disk\n",
        "#filename = 'finalized_model.sav'\n",
        "#loaded_model = pickle.load(open(filename, 'rb'))\n",
        "#result = loaded_model.score(X_test, y_test)\n",
        "#y_pred = loaded_model.predict(X_test)\n",
        "\n",
        "#pass\n",
        "\n",
        "# Create a decision tree regressor model\n",
        "model = DecisionTreeRegressor(random_state=10)\n",
        "#model = DecisionTreeClassifier(random_state=0)\n",
        "\n",
        "\n",
        "# Train the model\n",
        "model.fit(X_train, y_train)\n",
        "\n",
        "# Make predictions on the test set\n",
        "y_pred = model.predict(X_test)\n",
        "\n",
        "\n",
        "#cm= confusion_matrix(y_test, y_pred)\n",
        "#print(cm)\n",
        "\n",
        "# save the model to disk\n",
        "filename = 'finalized_model.sav'\n",
        "pickle.dump(model, open(filename, 'wb'))\n",
        "\n"
      ],
      "metadata": {
        "colab": {
          "base_uri": "https://localhost:8080/",
          "height": 664
        },
        "id": "9wvmsCFYdmR-",
        "outputId": "3ef43c60-24f0-4783-d4bc-b950e989314e"
      },
      "execution_count": null,
      "outputs": [
        {
          "output_type": "stream",
          "name": "stderr",
          "text": [
            "<ipython-input-82-05b44a6e5a65>:30: FutureWarning: The default value of numeric_only in DataFrame.mean is deprecated. In a future version, it will default to False. In addition, specifying 'numeric_only=None' is deprecated. Select only valid columns or specify the value of numeric_only to silence this warning.\n",
            "  data.fillna(data.mean(), inplace=True)\n",
            "<ipython-input-82-05b44a6e5a65>:34: FutureWarning: The default value of numeric_only in DataFrame.corr is deprecated. In a future version, it will default to False. Select only valid columns or specify the value of numeric_only to silence this warning.\n",
            "  corr = data.corr()\n"
          ]
        },
        {
          "output_type": "display_data",
          "data": {
            "text/plain": [
              "<Figure size 640x480 with 2 Axes>"
            ],
            "image/png": "[encoded data removed]"
          },
          "metadata": {}
        }
      ]
    },
    {
      "cell_type": "code",
      "source": [
        "\n",
        "#print(y_pred.count())\n",
        "# Evaluate the model\n",
        "mse = mean_squared_error(y_test, y_pred)\n",
        "r2 = r2_score(y_test, y_pred)\n",
        "\n",
        "print(f'Mean Squared Error: {mse}')\n",
        "print(f'R-squared (R2) Score: {r2}')\n",
        "\n",
        "\n",
        "\n",
        "\n",
        "# some time later...\n",
        "\n",
        " # load the model from disk\n",
        "loaded_model = pickle.load(open(filename, 'rb'))\n",
        "result = loaded_model.score(X_test, y_test)\n",
        "y_pred = model.predict(X_test)\n",
        "print(result)"
      ],
      "metadata": {
        "colab": {
          "base_uri": "https://localhost:8080/"
        },
        "id": "lK0PdwJAVEZ-",
        "outputId": "32b820aa-c955-4e25-b4e2-a13ff6c8fd73"
      },
      "execution_count": null,
      "outputs": [
        {
          "output_type": "stream",
          "name": "stdout",
          "text": [
            "Mean Squared Error: 59.377561102022966\n",
            "R-squared (R2) Score: 0.8092691361677662\n",
            "0.8092691361677662\n"
          ]
        }
      ]
    },
    {
      "cell_type": "code",
      "source": [
        "print(y_test.iloc[20001:20010])\n",
        "#print(y_test.query('RegId == \"114652\" '))\n",
        "#print(X_test.iloc[:2])\n",
        "y_pred = model.predict(X_test.iloc[20001:20010])\n",
        "print(y_pred)"
      ],
      "metadata": {
        "colab": {
          "base_uri": "https://localhost:8080/"
        },
        "id": "yrOGcqwwIKOa",
        "outputId": "4c308a58-9bdd-434a-8896-0f3186089d6e"
      },
      "execution_count": null,
      "outputs": [
        {
          "output_type": "stream",
          "name": "stdout",
          "text": [
            "126276    136\n",
            "175488    122\n",
            "7043      130\n",
            "216729    122\n",
            "151057    129\n",
            "21352     125\n",
            "88666     195\n",
            "103673    126\n",
            "57986     128\n",
            "Name: WorkingDuration, dtype: int64\n",
            "[139. 123. 127. 129. 125. 125. 191. 124. 131.]\n"
          ]
        }
      ]
    },
    {
      "cell_type": "code",
      "source": [
        "\n",
        "#test data\n",
        "\n",
        "data=pd.read_csv('/content/drive/MyDrive/Colab Notebooks/emp_model_data_test.csv', low_memory=False, encoding='cp1252')\n",
        " #emp_model_data_Year1\n",
        "\n",
        "\n",
        "data['JoiningDate'] = data['JoiningDate'].apply(safe_date_conversion)\n",
        "data = data[['RegId','ComID','Department','Section','Designation','Designation_Category','Current_Gross','District','Sex','Marital_Status','Last_Education','Bus_Availer','MLeft','Left_Date','WStatus','JoinYear','AgeWhenLeft','WorkingDuration','WorkingDurationYear']]\n",
        "\n",
        "\n",
        "# Preform label encoding for gender variable\n",
        "from sklearn.preprocessing import LabelEncoder, OneHotEncoder\n",
        "lableencoder_X_2 = LabelEncoder()\n",
        "\n",
        "\n",
        "\n",
        "data['Department'] = lableencoder_X_2.fit_transform(data['Department'])\n",
        "data['Section'] = lableencoder_X_2.fit_transform(data['Section'])\n",
        "data['Designation'] = lableencoder_X_2.fit_transform(data['Designation'])\n",
        "data['Designation_Category'] = lableencoder_X_2.fit_transform(data['Designation_Category'])\n",
        "data['Current_Gross'] = lableencoder_X_2.fit_transform(data['Current_Gross'])\n",
        "\n",
        "\n",
        "\n",
        "data['District'] = lableencoder_X_2.fit_transform(data['District'])\n",
        "data['Sex'] = lableencoder_X_2.fit_transform(data['Sex'])\n",
        "data['Marital_Status'] = lableencoder_X_2.fit_transform(data['Marital_Status'])\n",
        "data['Last_Education'] = lableencoder_X_2.fit_transform(data['Last_Education'])\n",
        "data['MLeft'] = lableencoder_X_2.fit_transform(data['MLeft'])\n",
        "data['Left_Date'] = lableencoder_X_2.fit_transform(data['Left_Date'])\n",
        "\n",
        "\n",
        "data['WStatus'] = lableencoder_X_2.fit_transform(data['WStatus'])\n",
        "data['JoinYear'] = lableencoder_X_2.fit_transform(data['JoinYear'])\n",
        "data['AgeWhenLeft'] = lableencoder_X_2.fit_transform(data['AgeWhenLeft'])\n",
        "data['WorkingDuration'] = lableencoder_X_2.fit_transform(data['WorkingDuration'])\n",
        "data['WorkingDurationYear'] = lableencoder_X_2.fit_transform(data['WorkingDurationYear'])\n",
        "\n",
        "\n",
        "data.fillna(data.mean(), inplace=True)\n"
      ],
      "metadata": {
        "colab": {
          "base_uri": "https://localhost:8080/"
        },
        "id": "rWNrcbfqS8zY",
        "outputId": "98805910-6e45-4125-9b13-9b4030184713"
      },
      "execution_count": null,
      "outputs": [
        {
          "output_type": "stream",
          "name": "stderr",
          "text": [
            "<ipython-input-68-c2e118d324e3>:38: FutureWarning: The default value of numeric_only in DataFrame.mean is deprecated. In a future version, it will default to False. In addition, specifying 'numeric_only=None' is deprecated. Select only valid columns or specify the value of numeric_only to silence this warning.\n",
            "  data.fillna(data.mean(), inplace=True)\n"
          ]
        }
      ]
    },
    {
      "cell_type": "code",
      "source": [
        "\n",
        "x = data[['RegId','ComID','Department','Section','Designation_Category','WStatus','Sex','Marital_Status','AgeWhenLeft' ,'Current_Gross'] ]  #33\n",
        "y = data['WorkingDuration']\n",
        "\n",
        "print(x)\n",
        "y_pred = model.predict(x)\n",
        "print(y_pred)"
      ],
      "metadata": {
        "colab": {
          "base_uri": "https://localhost:8080/"
        },
        "id": "3pIueZplTj4I",
        "outputId": "a5f48aa1-0f4e-4898-bda7-6483e8e1a802"
      },
      "execution_count": null,
      "outputs": [
        {
          "output_type": "stream",
          "name": "stdout",
          "text": [
            "     RegId  ComID  Department  Section  Designation_Category  WStatus  Sex  \\\n",
            "0   105562      7           2        0                     2        0    1   \n",
            "1   105513      7           2        0                     6        0    1   \n",
            "2   105794      1           1        0                     0        1    1   \n",
            "3   105810      7           2        0                     5        0    1   \n",
            "4   114654      1           1        0                     1        1    0   \n",
            "5   114652      1           1        0                     1        1    1   \n",
            "6   114638      7           2        0                     0        1    1   \n",
            "7   114637      7           2        0                     0        1    1   \n",
            "8   114639      1           1        0                     4        1    0   \n",
            "9   159438      7           2        0                     0        1    1   \n",
            "10  159424      1           2        0                     1        1    1   \n",
            "11  176123      1           0        0                     4        1    0   \n",
            "12  254825      1           1        0                     4        1    0   \n",
            "13  265570      1           1        0                     4        1    0   \n",
            "14  265488      1           1        0                     5        0    1   \n",
            "15  278243      1           1        0                     5        0    1   \n",
            "16  288107      1           1        0                     3        0    1   \n",
            "17  317139      1           1        0                     2        0    0   \n",
            "18  316714      1           1        0                     2        0    0   \n",
            "19  316719      1           1        0                     2        0    0   \n",
            "\n",
            "    Marital_Status  AgeWhenLeft  Current_Gross  \n",
            "0                1            0              0  \n",
            "1                1            3              0  \n",
            "2                1            6              0  \n",
            "3                1            4              0  \n",
            "4                1            9              0  \n",
            "5                1           11              0  \n",
            "6                1            0              0  \n",
            "7                1            5              0  \n",
            "8                0           10              0  \n",
            "9                1            3              0  \n",
            "10               1            8              0  \n",
            "11               1           12              0  \n",
            "12               1            8              0  \n",
            "13               1           13              0  \n",
            "14               1            1              0  \n",
            "15               1            7              0  \n",
            "16               1            2              0  \n",
            "17               1            2              0  \n",
            "18               1            2              0  \n",
            "19               1            2              0  \n",
            "[234. 234. 234. 234. 234. 234. 234. 234. 234. 234. 234. 234. 220. 130.\n",
            " 178. 130.   2. 132. 132. 132.]\n"
          ]
        }
      ]
    }
  ]
}